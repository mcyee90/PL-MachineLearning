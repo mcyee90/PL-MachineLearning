{
 "cells": [
  {
   "cell_type": "code",
   "execution_count": 1,
   "metadata": {
    "collapsed": true
   },
   "outputs": [],
   "source": [
    "# Dependencies\n",
    "import numpy as np\n",
    "import pandas as pd"
   ]
  },
  {
   "cell_type": "code",
   "execution_count": 2,
   "metadata": {},
   "outputs": [
    {
     "name": "stdout",
     "output_type": "stream",
     "text": [
      "173272\n",
      "11398\n",
      "161874\n"
     ]
    }
   ],
   "source": [
    "df = pd.read_csv(\"Public_Dataset.csv\")\n",
    "print(len(df))\n",
    "dftest = df[pd.isnull(df['Lapse'])]\n",
    "print(len(dftest))\n",
    "df = df.dropna()\n",
    "print(len(df))"
   ]
  },
  {
   "cell_type": "code",
   "execution_count": 3,
   "metadata": {},
   "outputs": [
    {
     "data": {
      "text/html": [
       "<div>\n",
       "<style>\n",
       "    .dataframe thead tr:only-child th {\n",
       "        text-align: right;\n",
       "    }\n",
       "\n",
       "    .dataframe thead th {\n",
       "        text-align: left;\n",
       "    }\n",
       "\n",
       "    .dataframe tbody tr th {\n",
       "        vertical-align: top;\n",
       "    }\n",
       "</style>\n",
       "<table border=\"1\" class=\"dataframe\">\n",
       "  <thead>\n",
       "    <tr style=\"text-align: right;\">\n",
       "      <th></th>\n",
       "      <th>Pol_num</th>\n",
       "      <th>Iss_yr</th>\n",
       "      <th>Iss_mo</th>\n",
       "      <th>Iss_age</th>\n",
       "      <th>Gender</th>\n",
       "      <th>Fund_val</th>\n",
       "      <th>Cash_val</th>\n",
       "      <th>Fixed Amt</th>\n",
       "      <th>Var Amt</th>\n",
       "      <th>Surr_prem</th>\n",
       "      <th>...</th>\n",
       "      <th>GIASubType</th>\n",
       "      <th>EEGSubType</th>\n",
       "      <th>GPASubType</th>\n",
       "      <th>IARSubType</th>\n",
       "      <th>Product</th>\n",
       "      <th>LOB</th>\n",
       "      <th>Valuation Year</th>\n",
       "      <th>Qualification</th>\n",
       "      <th>Lapse</th>\n",
       "      <th>Exposure</th>\n",
       "    </tr>\n",
       "  </thead>\n",
       "  <tbody>\n",
       "    <tr>\n",
       "      <th>0</th>\n",
       "      <td>VM13001002</td>\n",
       "      <td>2013</td>\n",
       "      <td>6</td>\n",
       "      <td>80</td>\n",
       "      <td>1</td>\n",
       "      <td>33376.89</td>\n",
       "      <td>31971.36</td>\n",
       "      <td>0.0</td>\n",
       "      <td>33376.89</td>\n",
       "      <td>36356.93</td>\n",
       "      <td>...</td>\n",
       "      <td>N</td>\n",
       "      <td>N</td>\n",
       "      <td>N</td>\n",
       "      <td>IARS</td>\n",
       "      <td>Pacific Choice Three</td>\n",
       "      <td>IRA</td>\n",
       "      <td>2016</td>\n",
       "      <td>Q</td>\n",
       "      <td>0.0</td>\n",
       "      <td>1</td>\n",
       "    </tr>\n",
       "    <tr>\n",
       "      <th>1</th>\n",
       "      <td>VM13001007</td>\n",
       "      <td>2013</td>\n",
       "      <td>8</td>\n",
       "      <td>67</td>\n",
       "      <td>1</td>\n",
       "      <td>92850.28</td>\n",
       "      <td>89615.38</td>\n",
       "      <td>0.0</td>\n",
       "      <td>92850.28</td>\n",
       "      <td>89858.31</td>\n",
       "      <td>...</td>\n",
       "      <td>N</td>\n",
       "      <td>N</td>\n",
       "      <td>N</td>\n",
       "      <td>N</td>\n",
       "      <td>Pacific Choice Three</td>\n",
       "      <td>ROC</td>\n",
       "      <td>2016</td>\n",
       "      <td>Q</td>\n",
       "      <td>0.0</td>\n",
       "      <td>1</td>\n",
       "    </tr>\n",
       "    <tr>\n",
       "      <th>2</th>\n",
       "      <td>VM13001014</td>\n",
       "      <td>2013</td>\n",
       "      <td>6</td>\n",
       "      <td>63</td>\n",
       "      <td>2</td>\n",
       "      <td>66057.57</td>\n",
       "      <td>63753.57</td>\n",
       "      <td>0.0</td>\n",
       "      <td>66057.57</td>\n",
       "      <td>64000.00</td>\n",
       "      <td>...</td>\n",
       "      <td>N</td>\n",
       "      <td>N</td>\n",
       "      <td>N</td>\n",
       "      <td>N</td>\n",
       "      <td>Pacific Choice Three</td>\n",
       "      <td>IRA</td>\n",
       "      <td>2016</td>\n",
       "      <td>Q</td>\n",
       "      <td>0.0</td>\n",
       "      <td>1</td>\n",
       "    </tr>\n",
       "    <tr>\n",
       "      <th>3</th>\n",
       "      <td>VM13001020</td>\n",
       "      <td>2013</td>\n",
       "      <td>6</td>\n",
       "      <td>76</td>\n",
       "      <td>1</td>\n",
       "      <td>794755.08</td>\n",
       "      <td>763168.31</td>\n",
       "      <td>0.0</td>\n",
       "      <td>794755.08</td>\n",
       "      <td>773243.70</td>\n",
       "      <td>...</td>\n",
       "      <td>N</td>\n",
       "      <td>N</td>\n",
       "      <td>N</td>\n",
       "      <td>N</td>\n",
       "      <td>Pacific Choice Three</td>\n",
       "      <td>NON</td>\n",
       "      <td>2016</td>\n",
       "      <td>N</td>\n",
       "      <td>0.0</td>\n",
       "      <td>1</td>\n",
       "    </tr>\n",
       "    <tr>\n",
       "      <th>4</th>\n",
       "      <td>VM13001021</td>\n",
       "      <td>2013</td>\n",
       "      <td>7</td>\n",
       "      <td>64</td>\n",
       "      <td>1</td>\n",
       "      <td>51421.90</td>\n",
       "      <td>49507.11</td>\n",
       "      <td>0.0</td>\n",
       "      <td>51421.90</td>\n",
       "      <td>50000.00</td>\n",
       "      <td>...</td>\n",
       "      <td>N</td>\n",
       "      <td>N</td>\n",
       "      <td>N</td>\n",
       "      <td>SCIAS</td>\n",
       "      <td>Pacific Choice Three</td>\n",
       "      <td>IRA</td>\n",
       "      <td>2016</td>\n",
       "      <td>Q</td>\n",
       "      <td>0.0</td>\n",
       "      <td>1</td>\n",
       "    </tr>\n",
       "  </tbody>\n",
       "</table>\n",
       "<p>5 rows × 35 columns</p>\n",
       "</div>"
      ],
      "text/plain": [
       "      Pol_num  Iss_yr  Iss_mo  Iss_age  Gender   Fund_val   Cash_val  \\\n",
       "0  VM13001002    2013       6       80       1   33376.89   31971.36   \n",
       "1  VM13001007    2013       8       67       1   92850.28   89615.38   \n",
       "2  VM13001014    2013       6       63       2   66057.57   63753.57   \n",
       "3  VM13001020    2013       6       76       1  794755.08  763168.31   \n",
       "4  VM13001021    2013       7       64       1   51421.90   49507.11   \n",
       "\n",
       "   Fixed Amt    Var Amt  Surr_prem    ...     GIASubType  EEGSubType  \\\n",
       "0        0.0   33376.89   36356.93    ...              N           N   \n",
       "1        0.0   92850.28   89858.31    ...              N           N   \n",
       "2        0.0   66057.57   64000.00    ...              N           N   \n",
       "3        0.0  794755.08  773243.70    ...              N           N   \n",
       "4        0.0   51421.90   50000.00    ...              N           N   \n",
       "\n",
       "   GPASubType  IARSubType               Product  LOB Valuation Year  \\\n",
       "0           N        IARS  Pacific Choice Three  IRA           2016   \n",
       "1           N           N  Pacific Choice Three  ROC           2016   \n",
       "2           N           N  Pacific Choice Three  IRA           2016   \n",
       "3           N           N  Pacific Choice Three  NON           2016   \n",
       "4           N       SCIAS  Pacific Choice Three  IRA           2016   \n",
       "\n",
       "   Qualification  Lapse  Exposure  \n",
       "0              Q    0.0         1  \n",
       "1              Q    0.0         1  \n",
       "2              Q    0.0         1  \n",
       "3              N    0.0         1  \n",
       "4              Q    0.0         1  \n",
       "\n",
       "[5 rows x 35 columns]"
      ]
     },
     "execution_count": 3,
     "metadata": {},
     "output_type": "execute_result"
    }
   ],
   "source": [
    "df.head()"
   ]
  },
  {
   "cell_type": "code",
   "execution_count": 4,
   "metadata": {},
   "outputs": [
    {
     "data": {
      "text/plain": [
       "Index(['Pol_num', 'Iss_yr', 'Iss_mo', 'Iss_age', 'Gender', 'Fund_val',\n",
       "       'Cash_val', 'Fixed Amt', 'Var Amt', 'Surr_prem', 'Enhanced DB',\n",
       "       'Reset DB', 'Max', 'Death', 'Ist', 'REST', 'Comm Opt', 'GPAY', 'IARY',\n",
       "       'premium', 'withdraw', 'BD Channel', 'GIAFee', 'GPAFee', 'IARFee',\n",
       "       'GIASubType', 'EEGSubType', 'GPASubType', 'IARSubType', 'Product',\n",
       "       'LOB', 'Valuation Year', 'Qualification', 'Lapse', 'Exposure'],\n",
       "      dtype='object')"
      ]
     },
     "execution_count": 4,
     "metadata": {},
     "output_type": "execute_result"
    }
   ],
   "source": [
    "df.columns"
   ]
  },
  {
   "cell_type": "code",
   "execution_count": 5,
   "metadata": {},
   "outputs": [
    {
     "name": "stdout",
     "output_type": "stream",
     "text": [
      "<class 'pandas.core.frame.DataFrame'>\n",
      "Int64Index: 161874 entries, 0 to 161873\n",
      "Data columns (total 35 columns):\n",
      "Pol_num           161874 non-null object\n",
      "Iss_yr            161874 non-null int64\n",
      "Iss_mo            161874 non-null int64\n",
      "Iss_age           161874 non-null int64\n",
      "Gender            161874 non-null int64\n",
      "Fund_val          161874 non-null float64\n",
      "Cash_val          161874 non-null float64\n",
      "Fixed Amt         161874 non-null float64\n",
      "Var Amt           161874 non-null float64\n",
      "Surr_prem         161874 non-null float64\n",
      "Enhanced DB       161874 non-null float64\n",
      "Reset DB          161874 non-null float64\n",
      "Max               161874 non-null float64\n",
      "Death             161874 non-null float64\n",
      "Ist               161874 non-null object\n",
      "REST              161874 non-null object\n",
      "Comm Opt          161874 non-null object\n",
      "GPAY              161874 non-null int64\n",
      "IARY              161874 non-null int64\n",
      "premium           161874 non-null float64\n",
      "withdraw          161874 non-null float64\n",
      "BD Channel        161874 non-null object\n",
      "GIAFee            161874 non-null int64\n",
      "GPAFee            161874 non-null int64\n",
      "IARFee            161874 non-null int64\n",
      "GIASubType        161874 non-null object\n",
      "EEGSubType        161874 non-null object\n",
      "GPASubType        161874 non-null object\n",
      "IARSubType        161874 non-null object\n",
      "Product           161874 non-null object\n",
      "LOB               161874 non-null object\n",
      "Valuation Year    161874 non-null int64\n",
      "Qualification     161874 non-null object\n",
      "Lapse             161874 non-null float64\n",
      "Exposure          161874 non-null int64\n",
      "dtypes: float64(12), int64(11), object(12)\n",
      "memory usage: 44.5+ MB\n"
     ]
    }
   ],
   "source": [
    "df.info()"
   ]
  },
  {
   "cell_type": "markdown",
   "metadata": {},
   "source": [
    "# Data Preprocessing"
   ]
  },
  {
   "cell_type": "code",
   "execution_count": 6,
   "metadata": {},
   "outputs": [],
   "source": [
    "# df['Iss_yr'] = df['Iss_yr'].astype('object')\n",
    "# df['Iss_mo'] = df['Iss_mo'].astype('object')\n",
    "# df['Gender'] = df['Gender'].astype('object')\n",
    "# df['Ist'] = df['Ist'].astype('object')\n",
    "# df['REST'] = df['REST'].astype('object')\n",
    "# df['GPAY'] = df['GPAY'].astype('object')\n",
    "# df['IARY'] = df['IARY'].astype('object')\n",
    "# df['Valuation Year'] = df['Valuation Year'].astype('object')\n",
    "# df.info()\n",
    "\n",
    "df['Comm Opt'] = df['Comm Opt'].map(lambda x: \"A\" if x == \"A\" else \"Non-A\")\n",
    "df['Ist'] = df['Ist'].map(lambda y: \"NY\" if y == \"NY\" else \"Non-NY\")\n",
    "df['REST'] = df['REST'].map(lambda z: \"NY\" if z == \"NY\" else \"Non-NY\")\n"
   ]
  },
  {
   "cell_type": "code",
   "execution_count": 7,
   "metadata": {},
   "outputs": [
    {
     "data": {
      "text/plain": [
       "array(['Other', 'WELLS FARGO ADVISORS LLC (WACPCG)', 'L P L FINANCIAL LLC',\n",
       "       'MERRILL LYNCH PIERCE FENNER & SMITH', 'FIFTH THIRD SECURITIES INC',\n",
       "       'U S BANCORP INVESTMENTS INC', 'SAGEPOINT FINANCIAL INC',\n",
       "       'EDWARD JONES', 'RAYMOND JAMES FINANCIAL SERVICES INC',\n",
       "       'P N C INVESTMENTS LLC (NAT)', 'J P MORGAN SECURITIES LLC (CHASE)'], dtype=object)"
      ]
     },
     "execution_count": 7,
     "metadata": {},
     "output_type": "execute_result"
    }
   ],
   "source": [
    "df['BD Channel'] = df['BD Channel'].map(lambda bd: bd if bd == \"L P L FINANCIAL LLC\" or \n",
    "                                        bd == \"J P MORGAN SECURITIES LLC (CHASE)\" or\n",
    "                                        bd == \"U S BANCORP INVESTMENTS INC\" or\n",
    "                                        bd == \"MERRILL LYNCH PIERCE FENNER & SMITH\" or\n",
    "                                        bd == \"FIFTH THIRD SECURITIES INC\" or\n",
    "                                        bd == \"SAGEPOINT FINANCIAL INC\" or\n",
    "                                        bd == \"WELLS FARGO ADVISORS LLC (WACPCG)\" or\n",
    "                                        bd == \"RAYMOND JAMES FINANCIAL SERVICES INC\" or\n",
    "                                        bd == \"P N C INVESTMENTS LLC (NAT)\" or\n",
    "                                        bd == \"EDWARD JONES\"\n",
    "                                        else \"Other\"\n",
    "                                       )\n",
    "df['BD Channel'].unique()"
   ]
  },
  {
   "cell_type": "code",
   "execution_count": 8,
   "metadata": {},
   "outputs": [
    {
     "data": {
      "text/plain": [
       "array(['Other', 'N', 'SFLI', 'F10', 'IAR', 'LIAP'], dtype=object)"
      ]
     },
     "execution_count": 8,
     "metadata": {},
     "output_type": "execute_result"
    }
   ],
   "source": [
    "df['IARSubType'] = df['IARSubType'].map(lambda IAR: IAR if IAR == \"N\" or\n",
    "                                       IAR == \"SFLI\" or\n",
    "                                       IAR == \"LIAP\" or\n",
    "                                       IAR == \"IAR\" or \n",
    "                                       IAR == \"F10\"\n",
    "                                       else \"Other\")\n",
    "df['IARSubType'].unique()"
   ]
  },
  {
   "cell_type": "code",
   "execution_count": 10,
   "metadata": {},
   "outputs": [
    {
     "data": {
      "text/plain": [
       "array(['Pacific Choice Three', 'Pacific Value', 'Voyages', 'Journey',\n",
       "       'Portfolios', 'PSVA', 'INNO SELECT', 'Journey Select L',\n",
       "       'Innovation', 'PSVA II'], dtype=object)"
      ]
     },
     "execution_count": 10,
     "metadata": {},
     "output_type": "execute_result"
    }
   ],
   "source": [
    "df['Product'] = df['Product'].map(lambda Prod: \"INNO SELECT\" if \n",
    "                                  Prod == \"INNO SELECT N\"\n",
    "                                 else Prod)\n",
    "df['Product'] = df['Product'].map(lambda Prod: \"Journey Select B\" if  \n",
    "                                  Prod == \"Journey Select NB\"\n",
    "                                 else Prod)\n",
    "df['Product'] = df['Product'].map(lambda Prod: \"Journey Select L\" if \n",
    "                                  Prod == \"Journey Select NL\"\n",
    "                                 else Prod)\n",
    "df['Product'] = df['Product'].map(lambda Prod: \"Pacific Choice Three\" if \n",
    "                                  Prod == \"Pacific Choice Three N\"\n",
    "                                 else Prod)\n",
    "df['Product'] = df['Product'].map(lambda Prod: \"Pacific Value\" if \n",
    "                                  Prod == \"Pacific Value N\"\n",
    "                                 else Prod)\n",
    "df['Product'] = df['Product'].map(lambda Prod: \"Pacific Value Edge\" if \n",
    "                                  Prod == \"Pacific Value Edge N\"\n",
    "                                 else Prod)\n",
    "df['Product'] = df['Product'].map(lambda Prod: \"Portfolios\" if \n",
    "                                  Prod == \"Portfolios N\"\n",
    "                                 else Prod)\n",
    "df['Product'] = df['Product'].map(lambda Prod: \"Voyages\" if \n",
    "                                  Prod == \"Voyages N\"\n",
    "                                 else Prod)\n",
    "df['Product'].unique()"
   ]
  },
  {
   "cell_type": "code",
   "execution_count": 11,
   "metadata": {},
   "outputs": [],
   "source": [
    "attained = []\n",
    "duration = []\n",
    "fundratio = []\n",
    "varpercent = []\n",
    "cashratio = []\n",
    "deathinthemoney = []\n",
    "for index, row in df.iterrows():\n",
    "    aa = float(round(row['Iss_age'] + row['Valuation Year'] - row['Iss_yr'] + ((12 - row['Iss_mo'])/12),2))\n",
    "    attained.append(aa)\n",
    "    d = float(round(row['Valuation Year'] - row['Iss_yr'] + ((12 - row['Iss_mo'])/12),2))\n",
    "    duration.append(d)\n",
    "    try:\n",
    "        fr = float(round((row['Fund_val']-row['Cash_val'])/row['Fund_val'],6))\n",
    "    except:\n",
    "        fr = 0\n",
    "    fundratio.append(fr)\n",
    "    vp = float(round(row['Var Amt']/(row['Var Amt'] + row['Fixed Amt']),6))\n",
    "    varpercent.append(vp)\n",
    "    try:\n",
    "        cr = float(round(row['Cash_val']/(row['premium']-row['withdraw']),2))\n",
    "    except:\n",
    "        cr = 0\n",
    "    cashratio.append(cr)\n",
    "    try:\n",
    "        dbitm = float(round(row['Death']/row['Cash_val'],2))\n",
    "    except:\n",
    "        dbitm = 0\n",
    "    deathinthemoney.append(dbitm)\n",
    "    \n",
    "df['attained'] = attained\n",
    "df['duration'] = duration\n",
    "df['fundratio'] = fundratio\n",
    "df['varpercent'] = varpercent\n",
    "df['cashratio'] = cashratio\n",
    "df['dbitm'] = deathinthemoney\n",
    "    "
   ]
  },
  {
   "cell_type": "code",
   "execution_count": 12,
   "metadata": {},
   "outputs": [],
   "source": [
    "df.to_csv('data.csv')"
   ]
  },
  {
   "cell_type": "code",
   "execution_count": 13,
   "metadata": {},
   "outputs": [
    {
     "data": {
      "text/html": [
       "<div>\n",
       "<style>\n",
       "    .dataframe thead tr:only-child th {\n",
       "        text-align: right;\n",
       "    }\n",
       "\n",
       "    .dataframe thead th {\n",
       "        text-align: left;\n",
       "    }\n",
       "\n",
       "    .dataframe tbody tr th {\n",
       "        vertical-align: top;\n",
       "    }\n",
       "</style>\n",
       "<table border=\"1\" class=\"dataframe\">\n",
       "  <thead>\n",
       "    <tr style=\"text-align: right;\">\n",
       "      <th></th>\n",
       "      <th>Iss_age</th>\n",
       "      <th>Gender</th>\n",
       "      <th>Fund_val</th>\n",
       "      <th>Cash_val</th>\n",
       "      <th>Fixed Amt</th>\n",
       "      <th>Var Amt</th>\n",
       "      <th>Surr_prem</th>\n",
       "      <th>Enhanced DB</th>\n",
       "      <th>Reset DB</th>\n",
       "      <th>Max</th>\n",
       "      <th>...</th>\n",
       "      <th>Product_Journey</th>\n",
       "      <th>Product_Journey Select L</th>\n",
       "      <th>Product_PSVA</th>\n",
       "      <th>Product_PSVA II</th>\n",
       "      <th>Product_Pacific Choice Three</th>\n",
       "      <th>Product_Pacific Value</th>\n",
       "      <th>Product_Portfolios</th>\n",
       "      <th>Product_Voyages</th>\n",
       "      <th>Qualification_N</th>\n",
       "      <th>Qualification_Q</th>\n",
       "    </tr>\n",
       "  </thead>\n",
       "  <tbody>\n",
       "    <tr>\n",
       "      <th>0</th>\n",
       "      <td>80</td>\n",
       "      <td>1</td>\n",
       "      <td>33376.89</td>\n",
       "      <td>31971.36</td>\n",
       "      <td>0.0</td>\n",
       "      <td>33376.89</td>\n",
       "      <td>36356.93</td>\n",
       "      <td>34605.77</td>\n",
       "      <td>0.0</td>\n",
       "      <td>34605.77</td>\n",
       "      <td>...</td>\n",
       "      <td>0</td>\n",
       "      <td>0</td>\n",
       "      <td>0</td>\n",
       "      <td>0</td>\n",
       "      <td>1</td>\n",
       "      <td>0</td>\n",
       "      <td>0</td>\n",
       "      <td>0</td>\n",
       "      <td>0</td>\n",
       "      <td>1</td>\n",
       "    </tr>\n",
       "    <tr>\n",
       "      <th>1</th>\n",
       "      <td>67</td>\n",
       "      <td>1</td>\n",
       "      <td>92850.28</td>\n",
       "      <td>89615.38</td>\n",
       "      <td>0.0</td>\n",
       "      <td>92850.28</td>\n",
       "      <td>89858.31</td>\n",
       "      <td>89858.31</td>\n",
       "      <td>0.0</td>\n",
       "      <td>89858.31</td>\n",
       "      <td>...</td>\n",
       "      <td>0</td>\n",
       "      <td>0</td>\n",
       "      <td>0</td>\n",
       "      <td>0</td>\n",
       "      <td>1</td>\n",
       "      <td>0</td>\n",
       "      <td>0</td>\n",
       "      <td>0</td>\n",
       "      <td>0</td>\n",
       "      <td>1</td>\n",
       "    </tr>\n",
       "    <tr>\n",
       "      <th>2</th>\n",
       "      <td>63</td>\n",
       "      <td>2</td>\n",
       "      <td>66057.57</td>\n",
       "      <td>63753.57</td>\n",
       "      <td>0.0</td>\n",
       "      <td>66057.57</td>\n",
       "      <td>64000.00</td>\n",
       "      <td>64000.00</td>\n",
       "      <td>0.0</td>\n",
       "      <td>64000.00</td>\n",
       "      <td>...</td>\n",
       "      <td>0</td>\n",
       "      <td>0</td>\n",
       "      <td>0</td>\n",
       "      <td>0</td>\n",
       "      <td>1</td>\n",
       "      <td>0</td>\n",
       "      <td>0</td>\n",
       "      <td>0</td>\n",
       "      <td>0</td>\n",
       "      <td>1</td>\n",
       "    </tr>\n",
       "    <tr>\n",
       "      <th>3</th>\n",
       "      <td>76</td>\n",
       "      <td>1</td>\n",
       "      <td>794755.08</td>\n",
       "      <td>763168.31</td>\n",
       "      <td>0.0</td>\n",
       "      <td>794755.08</td>\n",
       "      <td>773243.70</td>\n",
       "      <td>773243.70</td>\n",
       "      <td>0.0</td>\n",
       "      <td>773243.70</td>\n",
       "      <td>...</td>\n",
       "      <td>0</td>\n",
       "      <td>0</td>\n",
       "      <td>0</td>\n",
       "      <td>0</td>\n",
       "      <td>1</td>\n",
       "      <td>0</td>\n",
       "      <td>0</td>\n",
       "      <td>0</td>\n",
       "      <td>1</td>\n",
       "      <td>0</td>\n",
       "    </tr>\n",
       "    <tr>\n",
       "      <th>4</th>\n",
       "      <td>64</td>\n",
       "      <td>1</td>\n",
       "      <td>51421.90</td>\n",
       "      <td>49507.11</td>\n",
       "      <td>0.0</td>\n",
       "      <td>51421.90</td>\n",
       "      <td>50000.00</td>\n",
       "      <td>50000.00</td>\n",
       "      <td>0.0</td>\n",
       "      <td>50000.00</td>\n",
       "      <td>...</td>\n",
       "      <td>0</td>\n",
       "      <td>0</td>\n",
       "      <td>0</td>\n",
       "      <td>0</td>\n",
       "      <td>1</td>\n",
       "      <td>0</td>\n",
       "      <td>0</td>\n",
       "      <td>0</td>\n",
       "      <td>0</td>\n",
       "      <td>1</td>\n",
       "    </tr>\n",
       "  </tbody>\n",
       "</table>\n",
       "<p>5 rows × 80 columns</p>\n",
       "</div>"
      ],
      "text/plain": [
       "   Iss_age  Gender   Fund_val   Cash_val  Fixed Amt    Var Amt  Surr_prem  \\\n",
       "0       80       1   33376.89   31971.36        0.0   33376.89   36356.93   \n",
       "1       67       1   92850.28   89615.38        0.0   92850.28   89858.31   \n",
       "2       63       2   66057.57   63753.57        0.0   66057.57   64000.00   \n",
       "3       76       1  794755.08  763168.31        0.0  794755.08  773243.70   \n",
       "4       64       1   51421.90   49507.11        0.0   51421.90   50000.00   \n",
       "\n",
       "   Enhanced DB  Reset DB        Max       ...         Product_Journey  \\\n",
       "0     34605.77       0.0   34605.77       ...                       0   \n",
       "1     89858.31       0.0   89858.31       ...                       0   \n",
       "2     64000.00       0.0   64000.00       ...                       0   \n",
       "3    773243.70       0.0  773243.70       ...                       0   \n",
       "4     50000.00       0.0   50000.00       ...                       0   \n",
       "\n",
       "   Product_Journey Select L  Product_PSVA  Product_PSVA II  \\\n",
       "0                         0             0                0   \n",
       "1                         0             0                0   \n",
       "2                         0             0                0   \n",
       "3                         0             0                0   \n",
       "4                         0             0                0   \n",
       "\n",
       "   Product_Pacific Choice Three  Product_Pacific Value  Product_Portfolios  \\\n",
       "0                             1                      0                   0   \n",
       "1                             1                      0                   0   \n",
       "2                             1                      0                   0   \n",
       "3                             1                      0                   0   \n",
       "4                             1                      0                   0   \n",
       "\n",
       "   Product_Voyages  Qualification_N  Qualification_Q  \n",
       "0                0                0                1  \n",
       "1                0                0                1  \n",
       "2                0                0                1  \n",
       "3                0                1                0  \n",
       "4                0                0                1  \n",
       "\n",
       "[5 rows x 80 columns]"
      ]
     },
     "execution_count": 13,
     "metadata": {},
     "output_type": "execute_result"
    }
   ],
   "source": [
    "df['Iss_mo'] = df['Iss_mo'].astype('object')\n",
    "X = df.drop([\"Pol_num\", \"Exposure\", \"Lapse\", \"Iss_yr\", \"LOB\", \"Valuation Year\", \"GPAY\", \"IARY\"], axis=1)\n",
    "X = pd.get_dummies(X)\n",
    "y = df['Lapse']\n",
    "X.head()"
   ]
  },
  {
   "cell_type": "code",
   "execution_count": 14,
   "metadata": {},
   "outputs": [
    {
     "data": {
      "text/plain": [
       "Index(['Iss_age', 'Gender', 'Fund_val', 'Cash_val', 'Fixed Amt', 'Var Amt',\n",
       "       'Surr_prem', 'Enhanced DB', 'Reset DB', 'Max', 'Death', 'premium',\n",
       "       'withdraw', 'GIAFee', 'GPAFee', 'IARFee', 'attained', 'duration',\n",
       "       'fundratio', 'varpercent', 'cashratio', 'dbitm', 'Iss_mo_1', 'Iss_mo_2',\n",
       "       'Iss_mo_3', 'Iss_mo_4', 'Iss_mo_5', 'Iss_mo_6', 'Iss_mo_7', 'Iss_mo_8',\n",
       "       'Iss_mo_9', 'Iss_mo_10', 'Iss_mo_11', 'Iss_mo_12', 'Ist_NY',\n",
       "       'Ist_Non-NY', 'REST_NY', 'REST_Non-NY', 'Comm Opt_A', 'Comm Opt_Non-A',\n",
       "       'BD Channel_EDWARD JONES', 'BD Channel_FIFTH THIRD SECURITIES INC',\n",
       "       'BD Channel_J P MORGAN SECURITIES LLC (CHASE)',\n",
       "       'BD Channel_L P L FINANCIAL LLC',\n",
       "       'BD Channel_MERRILL LYNCH PIERCE FENNER & SMITH', 'BD Channel_Other',\n",
       "       'BD Channel_P N C INVESTMENTS LLC (NAT)',\n",
       "       'BD Channel_RAYMOND JAMES FINANCIAL SERVICES INC',\n",
       "       'BD Channel_SAGEPOINT FINANCIAL INC',\n",
       "       'BD Channel_U S BANCORP INVESTMENTS INC',\n",
       "       'BD Channel_WELLS FARGO ADVISORS LLC (WACPCG)', 'GIASubType_GIA',\n",
       "       'GIASubType_GIA5', 'GIASubType_GIAP', 'GIASubType_N', 'EEGSubType_EEG',\n",
       "       'EEGSubType_N', 'GPASubType_GPA', 'GPASubType_GPA3', 'GPASubType_GPA3S',\n",
       "       'GPASubType_GPA5', 'GPASubType_N', 'IARSubType_F10', 'IARSubType_IAR',\n",
       "       'IARSubType_LIAP', 'IARSubType_N', 'IARSubType_Other',\n",
       "       'IARSubType_SFLI', 'Product_INNO SELECT', 'Product_Innovation',\n",
       "       'Product_Journey', 'Product_Journey Select L', 'Product_PSVA',\n",
       "       'Product_PSVA II', 'Product_Pacific Choice Three',\n",
       "       'Product_Pacific Value', 'Product_Portfolios', 'Product_Voyages',\n",
       "       'Qualification_N', 'Qualification_Q'],\n",
       "      dtype='object')"
      ]
     },
     "execution_count": 14,
     "metadata": {},
     "output_type": "execute_result"
    }
   ],
   "source": [
    "X.columns"
   ]
  },
  {
   "cell_type": "code",
   "execution_count": 17,
   "metadata": {},
   "outputs": [
    {
     "name": "stdout",
     "output_type": "stream",
     "text": [
      "(161874, 80) (161874,)\n"
     ]
    }
   ],
   "source": [
    "print(X.shape, y.shape)"
   ]
  },
  {
   "cell_type": "code",
   "execution_count": 18,
   "metadata": {},
   "outputs": [],
   "source": [
    "from sklearn.model_selection import train_test_split\n",
    "from sklearn.preprocessing import LabelEncoder, StandardScaler\n",
    "from keras.utils import to_categorical\n",
    "\n",
    "X_train, X_test, y_train, y_test = train_test_split(X, y, random_state=42, stratify=y)\n",
    "X_scaler = StandardScaler().fit(X_train)\n",
    "X_train_scaled = X_scaler.transform(X_train)\n",
    "X_test_scaled = X_scaler.transform(X_test)"
   ]
  },
  {
   "cell_type": "code",
   "execution_count": 19,
   "metadata": {},
   "outputs": [
    {
     "name": "stdout",
     "output_type": "stream",
     "text": [
      "[ 0.  0.  0. ...,  0.  0.  0.]\n",
      "0.781487064173\n"
     ]
    }
   ],
   "source": [
    "from sklearn.naive_bayes import GaussianNB\n",
    "\n",
    "# Initialize our classifier\n",
    "gnb = GaussianNB()\n",
    "\n",
    "# Train our classifier\n",
    "model = gnb.fit(X_train, y_train)\n",
    "\n",
    "preds = gnb.predict(X_test)\n",
    "print(preds)\n",
    "\n",
    "from sklearn.metrics import accuracy_score\n",
    "\n",
    "# Evaluate accuracy\n",
    "print(accuracy_score(y_test, preds))"
   ]
  },
  {
   "cell_type": "code",
   "execution_count": 20,
   "metadata": {},
   "outputs": [
    {
     "name": "stdout",
     "output_type": "stream",
     "text": [
      "40469\n",
      "40469\n",
      "31626\n",
      "0.7814870641725765\n"
     ]
    }
   ],
   "source": [
    "count = 0\n",
    "print (len(y_test))\n",
    "print (len(preds))\n",
    "y_test_list = []\n",
    "for y in y_test:\n",
    "    y_test_list.append(y)\n",
    "# print (y_test_list)    \n",
    "for x in np.arange(len(preds)):\n",
    "    if int(preds[x]) == int(y_test_list[x]):\n",
    "        count = count + 1\n",
    "print (count)\n",
    "print (float(count/len(y_test)))"
   ]
  },
  {
   "cell_type": "code",
   "execution_count": 21,
   "metadata": {},
   "outputs": [
    {
     "name": "stdout",
     "output_type": "stream",
     "text": [
      "40469\n",
      "40469\n",
      "30654\n",
      "3563\n",
      "5280\n",
      "972\n"
     ]
    }
   ],
   "source": [
    "zerozero = 0\n",
    "zeroone = 0\n",
    "onezero = 0\n",
    "oneone = 0\n",
    "print (len(y_test))\n",
    "print (len(preds))\n",
    "y_test_list = []\n",
    "for y in y_test:\n",
    "    y_test_list.append(y)\n",
    "# print (y_test_list)    \n",
    "for x in np.arange(len(preds)):\n",
    "    if int(preds[x]) == 0 and int(y_test_list[x]) == 0:\n",
    "        zerozero = zerozero + 1\n",
    "    if int(preds[x]) == 0 and int(y_test_list[x]) == 1:\n",
    "        zeroone = zeroone + 1\n",
    "    if int(preds[x]) == 1 and int(y_test_list[x]) == 0:\n",
    "        onezero = onezero + 1\n",
    "    if int(preds[x]) == 1 and int(y_test_list[x]) == 1:\n",
    "        oneone = oneone + 1\n",
    "print (zerozero)\n",
    "print (zeroone)\n",
    "print (onezero)\n",
    "print (oneone)"
   ]
  },
  {
   "cell_type": "code",
   "execution_count": null,
   "metadata": {},
   "outputs": [],
   "source": [
    "\n",
    "# Step 1: Label-encode data set\n",
    "label_encoder = LabelEncoder()\n",
    "label_encoder.fit(y_train)\n",
    "encoded_y_train = label_encoder.transform(y_train)\n",
    "encoded_y_test = label_encoder.transform(y_test)\n",
    "\n",
    "# Step 2: Convert encoded labels to one-hot-encoding\n",
    "y_train_categorical = to_categorical(encoded_y_train)\n",
    "y_test_categorical = to_categorical(encoded_y_test)"
   ]
  },
  {
   "cell_type": "markdown",
   "metadata": {},
   "source": [
    "# Create Deep Learning Model"
   ]
  },
  {
   "cell_type": "code",
   "execution_count": null,
   "metadata": {
    "collapsed": true
   },
   "outputs": [],
   "source": [
    "from keras.models import Sequential\n",
    "from keras.layers import Dense\n",
    "\n",
    "# Create model and add layers\n",
    "model = Sequential()\n",
    "model.add(Dense(units=500, activation='relu', input_dim=86))\n",
    "model.add(Dense(units=500, activation='relu'))\n",
    "model.add(Dense(units=2, activation='softmax'))"
   ]
  },
  {
   "cell_type": "code",
   "execution_count": null,
   "metadata": {
    "scrolled": true
   },
   "outputs": [],
   "source": [
    "# Compile and fit the model\n",
    "model.compile(optimizer='adam',\n",
    "              loss='categorical_crossentropy',\n",
    "              metrics=['accuracy'])\n",
    "model.fit(\n",
    "    X_train_scaled,\n",
    "    y_train_categorical,\n",
    "    epochs=10,\n",
    "    shuffle=True,\n",
    "    verbose=1\n",
    ")"
   ]
  },
  {
   "cell_type": "markdown",
   "metadata": {},
   "source": [
    "# Quantify our Trained Model"
   ]
  },
  {
   "cell_type": "code",
   "execution_count": null,
   "metadata": {},
   "outputs": [],
   "source": [
    "# train_model_loss, train_model_accuracy = model.evaluate(X_train_scaled, y_train_categorical, verbose=2)\n",
    "test_model_loss, test_model_accuracy = model.evaluate(X_test_scaled, y_test_categorical, verbose=2)\n",
    "\n",
    "# print(f\"Train Deep Neural Network - Loss: {train_model_loss}, Accuracy: {train_model_accuracy}\")\n",
    "print(f\"Test Deep Neural Network - Loss: {test_model_loss}, Accuracy: {test_model_accuracy}\")"
   ]
  },
  {
   "cell_type": "code",
   "execution_count": null,
   "metadata": {
    "collapsed": true
   },
   "outputs": [],
   "source": [
    "# Save the model\n",
    "# model.save(\"models/deep_neural_model_trained.h5\")"
   ]
  },
  {
   "cell_type": "markdown",
   "metadata": {},
   "source": [
    "# Make Predictions"
   ]
  },
  {
   "cell_type": "code",
   "execution_count": null,
   "metadata": {},
   "outputs": [],
   "source": [
    "encoded_predictions = model.predict_classes(X_test_scaled[:10])\n",
    "prediction_labels = label_encoder.inverse_transform(encoded_predictions)"
   ]
  },
  {
   "cell_type": "code",
   "execution_count": null,
   "metadata": {},
   "outputs": [],
   "source": [
    "encoded_predictions"
   ]
  },
  {
   "cell_type": "code",
   "execution_count": null,
   "metadata": {},
   "outputs": [],
   "source": [
    "print(f\"Predicted classes: {prediction_labels}\")\n",
    "print(f\"Actual Labels: {list(y_test[:10])}\")"
   ]
  },
  {
   "cell_type": "markdown",
   "metadata": {},
   "source": [
    "# Get results of test data"
   ]
  },
  {
   "cell_type": "code",
   "execution_count": null,
   "metadata": {},
   "outputs": [],
   "source": [
    "predicted_encoded = model.predict_classes(X_test_scaled)\n",
    "predicted_label_column = label_encoder.inverse_transform(predicted_encoded)"
   ]
  },
  {
   "cell_type": "code",
   "execution_count": null,
   "metadata": {},
   "outputs": [],
   "source": [
    "print(predicted_label_column, len(predicted_label_column))"
   ]
  },
  {
   "cell_type": "code",
   "execution_count": null,
   "metadata": {},
   "outputs": [],
   "source": [
    "new_test_df = X_test\n",
    "new_test_df[\"prediction\"] = predicted_label_column\n",
    "new_test_df.head()"
   ]
  },
  {
   "cell_type": "code",
   "execution_count": null,
   "metadata": {},
   "outputs": [],
   "source": [
    "count = 0\n",
    "print (len(y_test))\n",
    "print (len(predicted_label_column))\n",
    "y_test_list = []\n",
    "for y in y_test:\n",
    "    y_test_list.append(y)\n",
    "# print (y_test_list)    \n",
    "for x in np.arange(len(predicted_label_column)):\n",
    "    if int(predicted_label_column[x]) == int(y_test_list[x]):\n",
    "        count = count + 1\n",
    "print (count)\n",
    "print (float(count/len(y_test)))"
   ]
  },
  {
   "cell_type": "code",
   "execution_count": null,
   "metadata": {},
   "outputs": [],
   "source": [
    "tally = 0\n",
    "for number in y_test_list:\n",
    "    if int(number) == 1:\n",
    "        tally = tally + 1\n",
    "print (tally)"
   ]
  },
  {
   "cell_type": "code",
   "execution_count": null,
   "metadata": {},
   "outputs": [],
   "source": [
    "zerozero = 0\n",
    "zeroone = 0\n",
    "onezero = 0\n",
    "oneone = 0\n",
    "print (len(y_test))\n",
    "print (len(predicted_label_column))\n",
    "y_test_list = []\n",
    "for y in y_test:\n",
    "    y_test_list.append(y)\n",
    "# print (y_test_list)    \n",
    "for x in np.arange(len(predicted_label_column)):\n",
    "    if int(predicted_label_column[x]) == 0 and int(y_test_list[x]) == 0:\n",
    "        zerozero = zerozero + 1\n",
    "    if int(predicted_label_column[x]) == 0 and int(y_test_list[x]) == 1:\n",
    "        zeroone = zeroone + 1\n",
    "    if int(predicted_label_column[x]) == 1 and int(y_test_list[x]) == 0:\n",
    "        onezero = onezero + 1\n",
    "    if int(predicted_label_column[x]) == 1 and int(y_test_list[x]) == 1:\n",
    "        oneone = oneone + 1\n",
    "print (zerozero)\n",
    "print (zeroone)\n",
    "print (onezero)\n",
    "print (oneone)\n",
    "\n",
    "# print (float(count/len(y_test)))"
   ]
  },
  {
   "cell_type": "code",
   "execution_count": null,
   "metadata": {
    "collapsed": true
   },
   "outputs": [],
   "source": [
    "from sklearn import tree\n"
   ]
  },
  {
   "cell_type": "code",
   "execution_count": null,
   "metadata": {},
   "outputs": [],
   "source": [
    "data = df\n",
    "data.head()"
   ]
  },
  {
   "cell_type": "code",
   "execution_count": null,
   "metadata": {},
   "outputs": [],
   "source": [
    "target = df[\"Lapse\"]\n",
    "target_names = [0, 1]\n",
    "\n",
    "from sklearn.model_selection import train_test_split\n",
    "X_train, X_test, y_train, y_test = train_test_split(data, target, random_state=42)\n",
    "\n",
    "clf = tree.DecisionTreeClassifier()\n",
    "clf = clf.fit(X_train, y_train)\n",
    "clf.score(X_test, y_test)"
   ]
  },
  {
   "cell_type": "code",
   "execution_count": null,
   "metadata": {
    "collapsed": true
   },
   "outputs": [],
   "source": [
    "dat"
   ]
  }
 ],
 "metadata": {
  "kernelspec": {
   "display_name": "Python [default]",
   "language": "python",
   "name": "python3"
  },
  "language_info": {
   "codemirror_mode": {
    "name": "ipython",
    "version": 3
   },
   "file_extension": ".py",
   "mimetype": "text/x-python",
   "name": "python",
   "nbconvert_exporter": "python",
   "pygments_lexer": "ipython3",
   "version": "3.6.3"
  }
 },
 "nbformat": 4,
 "nbformat_minor": 2
}
